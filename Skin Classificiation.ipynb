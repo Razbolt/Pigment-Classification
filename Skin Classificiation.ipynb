{
 "cells": [
  {
   "cell_type": "markdown",
   "id": "3e27e473",
   "metadata": {},
   "source": [
    "# 1. Install neccesarry libraries"
   ]
  },
  {
   "cell_type": "code",
   "execution_count": 14,
   "id": "e7557a5f",
   "metadata": {},
   "outputs": [
    {
     "name": "stdout",
     "output_type": "stream",
     "text": [
      "Requirement already satisfied: Pillow in /Users/erdemarslan/anaconda3/lib/python3.11/site-packages (9.4.0)\n"
     ]
    }
   ],
   "source": [
    " # This is a library for image reshaping\n",
    "!pip install Pillow \n",
    "\n",
    "#Import neccesary libraries\n",
    "import numpy as np \n",
    "import pandas as pd "
   ]
  },
  {
   "cell_type": "markdown",
   "id": "fd3a41fa",
   "metadata": {},
   "source": [
    "# 2. Read the csv files"
   ]
  },
  {
   "cell_type": "markdown",
   "id": "62a923ff",
   "metadata": {},
   "source": [
    "We will have 2 different csv files. \n",
    "\n",
    "First one *'GroundTruth.csv '* contains images_id with their labes.\n",
    "\n",
    "And the other one *'HAM10000_metadata.csv'* is contains a informations regading the image itself.\n",
    "\n"
   ]
  },
  {
   "cell_type": "code",
   "execution_count": 68,
   "id": "30a194dd",
   "metadata": {},
   "outputs": [
    {
     "name": "stdout",
     "output_type": "stream",
     "text": [
      "<class 'pandas.core.frame.DataFrame'>\n",
      "RangeIndex: 10015 entries, 0 to 10014\n",
      "Data columns (total 8 columns):\n",
      " #   Column  Non-Null Count  Dtype  \n",
      "---  ------  --------------  -----  \n",
      " 0   image   10015 non-null  object \n",
      " 1   MEL     10015 non-null  float64\n",
      " 2   NV      10015 non-null  float64\n",
      " 3   BCC     10015 non-null  float64\n",
      " 4   AKIEC   10015 non-null  float64\n",
      " 5   BKL     10015 non-null  float64\n",
      " 6   DF      10015 non-null  float64\n",
      " 7   VASC    10015 non-null  float64\n",
      "dtypes: float64(7), object(1)\n",
      "memory usage: 626.1+ KB\n"
     ]
    }
   ],
   "source": [
    "#Read the csv files into a dataframe\n",
    "\n",
    "df = pd.read_csv('GroundTruth.csv')\n",
    "\n",
    "df2 = pd.read_csv('HAM10000_metadata.csv')\n",
    "\n",
    "df.head(5)\n",
    "\n",
    "#!ls \"./images/images\" #Before preprocessing checked directory \n",
    "\n",
    "df.info()"
   ]
  },
  {
   "cell_type": "code",
   "execution_count": 69,
   "id": "6178d4f1",
   "metadata": {},
   "outputs": [
    {
     "name": "stdout",
     "output_type": "stream",
     "text": [
      "<class 'pandas.core.frame.DataFrame'>\n",
      "RangeIndex: 10015 entries, 0 to 10014\n",
      "Data columns (total 7 columns):\n",
      " #   Column        Non-Null Count  Dtype  \n",
      "---  ------        --------------  -----  \n",
      " 0   lesion_id     10015 non-null  object \n",
      " 1   image_id      10015 non-null  object \n",
      " 2   dx            10015 non-null  object \n",
      " 3   dx_type       10015 non-null  object \n",
      " 4   age           9958 non-null   float64\n",
      " 5   sex           10015 non-null  object \n",
      " 6   localization  10015 non-null  object \n",
      "dtypes: float64(1), object(6)\n",
      "memory usage: 547.8+ KB\n"
     ]
    }
   ],
   "source": [
    "df2.head(5)\n",
    "\n",
    "df2.info()\n",
    "\n",
    "#As we can see in df2 the column with image_id is different than the one in df.\n",
    "#We need to change the column name in df2 to match the one in df\n",
    "\n",
    "df2 = df2.rename(columns={'image_id': 'image'},inplace=False)\n",
    "\n"
   ]
  },
  {
   "cell_type": "code",
   "execution_count": 70,
   "id": "1fc97baf",
   "metadata": {},
   "outputs": [
    {
     "name": "stdout",
     "output_type": "stream",
     "text": [
      "<class 'pandas.core.frame.DataFrame'>\n",
      "RangeIndex: 10015 entries, 0 to 10014\n",
      "Data columns (total 7 columns):\n",
      " #   Column        Non-Null Count  Dtype  \n",
      "---  ------        --------------  -----  \n",
      " 0   lesion_id     10015 non-null  object \n",
      " 1   image         10015 non-null  object \n",
      " 2   dx            10015 non-null  object \n",
      " 3   dx_type       10015 non-null  object \n",
      " 4   age           9958 non-null   float64\n",
      " 5   sex           10015 non-null  object \n",
      " 6   localization  10015 non-null  object \n",
      "dtypes: float64(1), object(6)\n",
      "memory usage: 547.8+ KB\n"
     ]
    }
   ],
   "source": [
    "df2.info()"
   ]
  },
  {
   "cell_type": "markdown",
   "id": "d06b455d",
   "metadata": {},
   "source": [
    "In order to make a analysis based on the images we can concatenate both dataframes to one "
   ]
  },
  {
   "cell_type": "code",
   "execution_count": 72,
   "id": "594ca4b6",
   "metadata": {},
   "outputs": [
    {
     "data": {
      "text/html": [
       "<div>\n",
       "<style scoped>\n",
       "    .dataframe tbody tr th:only-of-type {\n",
       "        vertical-align: middle;\n",
       "    }\n",
       "\n",
       "    .dataframe tbody tr th {\n",
       "        vertical-align: top;\n",
       "    }\n",
       "\n",
       "    .dataframe thead th {\n",
       "        text-align: right;\n",
       "    }\n",
       "</style>\n",
       "<table border=\"1\" class=\"dataframe\">\n",
       "  <thead>\n",
       "    <tr style=\"text-align: right;\">\n",
       "      <th></th>\n",
       "      <th>image</th>\n",
       "      <th>MEL</th>\n",
       "      <th>NV</th>\n",
       "      <th>BCC</th>\n",
       "      <th>AKIEC</th>\n",
       "      <th>BKL</th>\n",
       "      <th>DF</th>\n",
       "      <th>VASC</th>\n",
       "      <th>lesion_id</th>\n",
       "      <th>dx</th>\n",
       "      <th>dx_type</th>\n",
       "      <th>age</th>\n",
       "      <th>sex</th>\n",
       "      <th>localization</th>\n",
       "    </tr>\n",
       "  </thead>\n",
       "  <tbody>\n",
       "    <tr>\n",
       "      <th>0</th>\n",
       "      <td>ISIC_0024306</td>\n",
       "      <td>0.0</td>\n",
       "      <td>1.0</td>\n",
       "      <td>0.0</td>\n",
       "      <td>0.0</td>\n",
       "      <td>0.0</td>\n",
       "      <td>0.0</td>\n",
       "      <td>0.0</td>\n",
       "      <td>HAM_0000550</td>\n",
       "      <td>nv</td>\n",
       "      <td>follow_up</td>\n",
       "      <td>45.0</td>\n",
       "      <td>male</td>\n",
       "      <td>trunk</td>\n",
       "    </tr>\n",
       "    <tr>\n",
       "      <th>1</th>\n",
       "      <td>ISIC_0024307</td>\n",
       "      <td>0.0</td>\n",
       "      <td>1.0</td>\n",
       "      <td>0.0</td>\n",
       "      <td>0.0</td>\n",
       "      <td>0.0</td>\n",
       "      <td>0.0</td>\n",
       "      <td>0.0</td>\n",
       "      <td>HAM_0003577</td>\n",
       "      <td>nv</td>\n",
       "      <td>follow_up</td>\n",
       "      <td>50.0</td>\n",
       "      <td>male</td>\n",
       "      <td>lower extremity</td>\n",
       "    </tr>\n",
       "    <tr>\n",
       "      <th>2</th>\n",
       "      <td>ISIC_0024308</td>\n",
       "      <td>0.0</td>\n",
       "      <td>1.0</td>\n",
       "      <td>0.0</td>\n",
       "      <td>0.0</td>\n",
       "      <td>0.0</td>\n",
       "      <td>0.0</td>\n",
       "      <td>0.0</td>\n",
       "      <td>HAM_0001477</td>\n",
       "      <td>nv</td>\n",
       "      <td>follow_up</td>\n",
       "      <td>55.0</td>\n",
       "      <td>female</td>\n",
       "      <td>trunk</td>\n",
       "    </tr>\n",
       "    <tr>\n",
       "      <th>3</th>\n",
       "      <td>ISIC_0024309</td>\n",
       "      <td>0.0</td>\n",
       "      <td>1.0</td>\n",
       "      <td>0.0</td>\n",
       "      <td>0.0</td>\n",
       "      <td>0.0</td>\n",
       "      <td>0.0</td>\n",
       "      <td>0.0</td>\n",
       "      <td>HAM_0000484</td>\n",
       "      <td>nv</td>\n",
       "      <td>follow_up</td>\n",
       "      <td>40.0</td>\n",
       "      <td>male</td>\n",
       "      <td>trunk</td>\n",
       "    </tr>\n",
       "    <tr>\n",
       "      <th>4</th>\n",
       "      <td>ISIC_0024310</td>\n",
       "      <td>1.0</td>\n",
       "      <td>0.0</td>\n",
       "      <td>0.0</td>\n",
       "      <td>0.0</td>\n",
       "      <td>0.0</td>\n",
       "      <td>0.0</td>\n",
       "      <td>0.0</td>\n",
       "      <td>HAM_0003350</td>\n",
       "      <td>mel</td>\n",
       "      <td>histo</td>\n",
       "      <td>60.0</td>\n",
       "      <td>male</td>\n",
       "      <td>chest</td>\n",
       "    </tr>\n",
       "  </tbody>\n",
       "</table>\n",
       "</div>"
      ],
      "text/plain": [
       "          image  MEL   NV  BCC  AKIEC  BKL   DF  VASC    lesion_id   dx  \\\n",
       "0  ISIC_0024306  0.0  1.0  0.0    0.0  0.0  0.0   0.0  HAM_0000550   nv   \n",
       "1  ISIC_0024307  0.0  1.0  0.0    0.0  0.0  0.0   0.0  HAM_0003577   nv   \n",
       "2  ISIC_0024308  0.0  1.0  0.0    0.0  0.0  0.0   0.0  HAM_0001477   nv   \n",
       "3  ISIC_0024309  0.0  1.0  0.0    0.0  0.0  0.0   0.0  HAM_0000484   nv   \n",
       "4  ISIC_0024310  1.0  0.0  0.0    0.0  0.0  0.0   0.0  HAM_0003350  mel   \n",
       "\n",
       "     dx_type   age     sex     localization  \n",
       "0  follow_up  45.0    male            trunk  \n",
       "1  follow_up  50.0    male  lower extremity  \n",
       "2  follow_up  55.0  female            trunk  \n",
       "3  follow_up  40.0    male            trunk  \n",
       "4      histo  60.0    male            chest  "
      ]
     },
     "execution_count": 72,
     "metadata": {},
     "output_type": "execute_result"
    }
   ],
   "source": [
    "#Merge the two dataframes on the image_id column\n",
    "\n",
    "df3 = pd.merge(df, df2, on='image')\n",
    "\n",
    "df3.head(5)"
   ]
  },
  {
   "cell_type": "code",
   "execution_count": 31,
   "id": "7872ca8a",
   "metadata": {},
   "outputs": [
    {
     "name": "stdout",
     "output_type": "stream",
     "text": [
      "10015\n",
      "Index(['image', 'MEL', 'NV', 'BCC', 'AKIEC', 'BKL', 'DF', 'VASC'], dtype='object')\n"
     ]
    }
   ],
   "source": [
    "#Show the number of columns we have to proccess\n",
    "print(len(df))\n",
    "\n",
    "#Show the columns we have to proccess\n",
    "print(df.columns)\n",
    "\n",
    "#drop the image column from the dataframe so that create a label array\n",
    "\n",
    "labels = df.drop(columns=['image'])"
   ]
  },
  {
   "cell_type": "code",
   "execution_count": 33,
   "id": "de863a6f",
   "metadata": {},
   "outputs": [
    {
     "name": "stdout",
     "output_type": "stream",
     "text": [
      "              image  MEL   NV  BCC  AKIEC  BKL   DF  VASC\n",
      "0  ISIC_0024306.jpg  0.0  1.0  0.0    0.0  0.0  0.0   0.0\n",
      "1  ISIC_0024307.jpg  0.0  1.0  0.0    0.0  0.0  0.0   0.0\n",
      "2  ISIC_0024308.jpg  0.0  1.0  0.0    0.0  0.0  0.0   0.0\n",
      "3  ISIC_0024309.jpg  0.0  1.0  0.0    0.0  0.0  0.0   0.0\n",
      "4  ISIC_0024310.jpg  1.0  0.0  0.0    0.0  0.0  0.0   0.0\n"
     ]
    }
   ],
   "source": [
    "#From above we can see that our dataframe is not contain .jpg extension so we have to add it to the dataframe\n",
    "#This will help us to read the images from the directory\n",
    "\n",
    "df['image'] = df['image'].apply(lambda x: x + '.jpg')\n",
    "\n",
    "print(df.head())"
   ]
  },
  {
   "cell_type": "markdown",
   "id": "a30b8978",
   "metadata": {},
   "source": [
    "# 3. Preprocessing the images"
   ]
  },
  {
   "cell_type": "markdown",
   "id": "86856d42",
   "metadata": {},
   "source": [
    "Resizing images will be helpful for us to work on models.\n",
    "\n",
    "This images are formed as RGB which is Red,Green and Blue Channels.\n",
    "\n",
    "When re-size the images as (128,128) it will create a a column as 128x128x3 = 49152 as showed in resized_images[0]"
   ]
  },
  {
   "cell_type": "code",
   "execution_count": 95,
   "id": "d4ea7a1a",
   "metadata": {},
   "outputs": [
    {
     "data": {
      "text/plain": [
       "((128, 128, 3), 15, 239)"
      ]
     },
     "execution_count": 95,
     "metadata": {},
     "output_type": "execute_result"
    }
   ],
   "source": [
    "import os\n",
    "from IPython.display import Image, display\n",
    "\n",
    "from PIL import Image\n",
    "\n",
    "image_directory = './images/images/' \n",
    "\n",
    "#We need to end of the file as jnp because in the directory there is .txt file\n",
    "image_files = [os.path.join(image_directory, file) for file in os.listdir(image_directory) if file.endswith('.jpg')]\n",
    "\n",
    "#Sort the images based on their indexis\n",
    "image_files.sort()\n",
    "\n",
    "count = 0\n",
    "\n",
    "#Resize the images to 128x128\n",
    "resized_images = []\n",
    "for image_file in image_files:\n",
    "    \n",
    "    with Image.open(image_file) as img:\n",
    "    \n",
    "        img = img.resize((128,128))\n",
    "        #Make sure that the image is RGB and convert it to numpy array\n",
    "        img_array = np.array(img)\n",
    "\n",
    "        #Normalize the image\n",
    "        img = img_array/ 255.0\n",
    "\n",
    "\n",
    "        #print(img.size)\n",
    "        resized_images.append(img_array)\n",
    "\n",
    "\n",
    "#This shows the shape of my images and the min and max values of the pixels\n",
    "#This will help us to see if there is any problem with the images\n",
    "img_array.shape, img_array.min(), img_array.max()"
   ]
  },
  {
   "cell_type": "code",
   "execution_count": 96,
   "id": "e467b938",
   "metadata": {},
   "outputs": [
    {
     "data": {
      "text/plain": [
       "(10015, 128, 128, 3)"
      ]
     },
     "execution_count": 96,
     "metadata": {},
     "output_type": "execute_result"
    }
   ],
   "source": [
    "#This convertion is neccesarry since we are feeding the images to the neural network as numpy array \n",
    "# numpy make it as 4 dimensional array, before proccesing we had 3 dimensional array\n",
    "X = np.array(resized_images)\n",
    "\n",
    "X.shape"
   ]
  },
  {
   "cell_type": "markdown",
   "id": "97c298cc",
   "metadata": {},
   "source": [
    "## 3.2 Preprocessing the One-hot encoding Y labels"
   ]
  },
  {
   "cell_type": "code",
   "execution_count": 104,
   "id": "afc0f7ef",
   "metadata": {},
   "outputs": [
    {
     "ename": "AttributeError",
     "evalue": "'numpy.ndarray' object has no attribute 'value'",
     "output_type": "error",
     "traceback": [
      "\u001b[0;31m---------------------------------------------------------------------------\u001b[0m",
      "\u001b[0;31mAttributeError\u001b[0m                            Traceback (most recent call last)",
      "\u001b[1;32m/Users/erdemarslan/Pigment-Classification/Skin Classificiation.ipynb Cell 17\u001b[0m line \u001b[0;36m7\n\u001b[1;32m      <a href='vscode-notebook-cell:/Users/erdemarslan/Pigment-Classification/Skin%20Classificiation.ipynb#X10sZmlsZQ%3D%3D?line=3'>4</a>\u001b[0m \u001b[39m#Create a one hot encoded array for  Numpy Array    \u001b[39;00m\n\u001b[1;32m      <a href='vscode-notebook-cell:/Users/erdemarslan/Pigment-Classification/Skin%20Classificiation.ipynb#X10sZmlsZQ%3D%3D?line=4'>5</a>\u001b[0m y \u001b[39m=\u001b[39m np\u001b[39m.\u001b[39marray(y)\n\u001b[0;32m----> <a href='vscode-notebook-cell:/Users/erdemarslan/Pigment-Classification/Skin%20Classificiation.ipynb#X10sZmlsZQ%3D%3D?line=6'>7</a>\u001b[0m y\u001b[39m.\u001b[39mvalue\n",
      "\u001b[0;31mAttributeError\u001b[0m: 'numpy.ndarray' object has no attribute 'value'"
     ]
    }
   ],
   "source": [
    "#One hot encoding for the labels expect the image column from first dataframe\n",
    "y = pd.get_dummies(df.drop(columns=['image']))\n",
    "\n",
    "#Create a one hot encoded array for  Numpy Array    \n",
    "y = np.array(y)\n",
    "\n"
   ]
  },
  {
   "cell_type": "code",
   "execution_count": null,
   "id": "4082ec6c",
   "metadata": {},
   "outputs": [],
   "source": []
  }
 ],
 "metadata": {
  "kernelspec": {
   "display_name": "Python 3 (ipykernel)",
   "language": "python",
   "name": "python3"
  },
  "language_info": {
   "codemirror_mode": {
    "name": "ipython",
    "version": 3
   },
   "file_extension": ".py",
   "mimetype": "text/x-python",
   "name": "python",
   "nbconvert_exporter": "python",
   "pygments_lexer": "ipython3",
   "version": "3.11.5"
  }
 },
 "nbformat": 4,
 "nbformat_minor": 5
}
